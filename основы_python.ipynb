{
 "cells": [
  {
   "cell_type": "markdown",
   "metadata": {
    "id": "M-DGa20PaHnu"
   },
   "source": [
    "#Задача 1\n",
    "Написать функцию на вход которой подается строка, состоящая из латинских букв.\n",
    "Функция должна вернуть количество гласных букв (a, e, i, o, u) в этой строке. Написать тесты для кода"
   ]
  },
  {
   "cell_type": "code",
   "execution_count": 93,
   "metadata": {
    "ExecuteTime": {
     "end_time": "2024-10-09T15:45:47.445856100Z",
     "start_time": "2024-10-09T15:45:47.429230100Z"
    },
    "id": "XvX8X_JJ6PCb"
   },
   "outputs": [
    {
     "name": "stderr",
     "output_type": "stream",
     "text": [
      ".................................\n",
      "----------------------------------------------------------------------\n",
      "Ran 33 tests in 0.023s\n",
      "\n",
      "OK\n"
     ]
    }
   ],
   "source": [
    "import unittest\n",
    "\n",
    "\n",
    "def number_vowels(a: str, count=0) -> int:\n",
    "    if not isinstance(a, str):\n",
    "        raise ValueError(\"Input must be a string\")\n",
    "\n",
    "    for letter in a:\n",
    "        if letter in 'aeiouAEIOU':\n",
    "            count += 1\n",
    "\n",
    "    return count\n",
    "\n",
    "\n",
    "class TestNumberVowels(unittest.TestCase):\n",
    "    def test_no_vowels(self):\n",
    "        self.assertEqual(number_vowels(\"bcdfgh\"), 0)\n",
    "\n",
    "    def test_only_consonants(self):\n",
    "        self.assertEqual(number_vowels(\"rhythm\"), 0)\n",
    "\n",
    "    def test_only_vowels(self):\n",
    "        self.assertEqual(number_vowels(\"aeiouAEIOU\"), 10)\n",
    "\n",
    "    def test_mixed_case(self):\n",
    "        self.assertEqual(number_vowels(\"Hello World\"), 3)\n",
    "\n",
    "    def test_empty_string(self):\n",
    "        self.assertEqual(number_vowels(\"\"), 0)\n",
    "\n",
    "    def test_numbers_and_symbols(self):\n",
    "        self.assertEqual(number_vowels(\"12345!@#$%^&*()\"), 0)\n",
    "    \n",
    "    def test_spaces(self):\n",
    "        self.assertEqual(number_vowels(\" \"), 0)\n",
    "\n",
    "    def test_handling_invalid_input(self):\n",
    "        with self.assertRaises(ValueError):\n",
    "            number_vowels(123) \n",
    "        with self.assertRaises(ValueError):\n",
    "            number_vowels(None)\n",
    "\n",
    "    def test_count_with_default_value(self):\n",
    "        self.assertEqual(number_vowels(\"Hello\"), 2)\n",
    "\n",
    "if __name__ == '__main__':\n",
    "    unittest.main(exit=False)"
   ]
  },
  {
   "cell_type": "markdown",
   "metadata": {
    "id": "t2ClV_Y0bbr6"
   },
   "source": [
    "# Задача 2\n",
    "Написать функцию на вход, которой подается строка. Функция должна вернуть true, если\n",
    "каждый символ в строке встречается только 1 раз, иначе должна вернуть false. Написать тесты для кода"
   ]
  },
  {
   "cell_type": "code",
   "execution_count": 94,
   "metadata": {
    "ExecuteTime": {
     "end_time": "2024-10-09T15:45:47.479682200Z",
     "start_time": "2024-10-09T15:45:47.449551400Z"
    },
    "id": "FppbECao6VIz"
   },
   "outputs": [
    {
     "name": "stderr",
     "output_type": "stream",
     "text": [
      ".................................\n",
      "----------------------------------------------------------------------\n",
      "Ran 33 tests in 0.020s\n",
      "\n",
      "OK\n"
     ]
    }
   ],
   "source": [
    "import unittest\n",
    "\n",
    "def check_characters(a: str) -> bool:\n",
    "    if not isinstance(a, str):\n",
    "        raise ValueError(\"Input must be a string\")\n",
    "    return len(set(a)) == len(a)\n",
    "\n",
    "\n",
    "class TestCheckCharacters(unittest.TestCase):\n",
    "    \n",
    "    def test_symbol_occurs_1_time(self):\n",
    "        self.assertTrue(check_characters(\"HTuikm B2569Xf\"))\n",
    "\n",
    "    def test_empty_string(self):\n",
    "        self.assertTrue(check_characters(\"\"))\n",
    "\n",
    "    def test_symbol_occurs_2_time(self):\n",
    "        self.assertFalse(check_characters(\"HTuikm74kB Xfh\"))\n",
    "\n",
    "    def test_symbol_occurs_5_time(self):\n",
    "        self.assertFalse(check_characters(\"HTuih96 kHmHBXhfh\"))\n",
    "\n",
    "    def test_two_spaces_line(self):\n",
    "        self.assertFalse(check_characters(\"  \"))\n",
    "\n",
    "    def test_not_string_input_list(self):\n",
    "        with self.assertRaises(ValueError) as context:\n",
    "            check_characters([\"123\", \"jnjknQa\"])\n",
    "        self.assertEqual(str(context.exception), \"Input must be a string\")\n",
    "\n",
    "    def test_not_string_input_integer(self):\n",
    "        with self.assertRaises(ValueError) as context:\n",
    "            check_characters(123)\n",
    "        self.assertEqual(str(context.exception), \"Input must be a string\")\n",
    "\n",
    "    def test_not_string_input_none(self):\n",
    "        with self.assertRaises(ValueError) as context:\n",
    "            check_characters(None)\n",
    "        self.assertEqual(str(context.exception), \"Input must be a string\")\n",
    "\n",
    "if __name__ == \"__main__\":\n",
    "    unittest.main(argv=['first-arg-is-ignored'], exit=False)\n"
   ]
  },
  {
   "cell_type": "markdown",
   "metadata": {
    "id": "udRiIK1cdt6E"
   },
   "source": [
    "# Задача 3\n",
    "Написать функцию, которая принимает положительное число и возвращает количество\n",
    "бит равных 1 в этом числе. Написать тесты для кода"
   ]
  },
  {
   "cell_type": "code",
   "execution_count": 96,
   "metadata": {
    "ExecuteTime": {
     "end_time": "2024-10-09T15:45:47.489682400Z",
     "start_time": "2024-10-09T15:45:47.468549100Z"
    },
    "id": "6tkfDJRz6dp_"
   },
   "outputs": [
    {
     "name": "stderr",
     "output_type": "stream",
     "text": [
      ".................................\n",
      "----------------------------------------------------------------------\n",
      "Ran 33 tests in 0.020s\n",
      "\n",
      "OK\n"
     ]
    }
   ],
   "source": [
    "import unittest\n",
    "\n",
    "def count_set_bits(n: int):\n",
    "    if n <= 0:\n",
    "        raise ValueError(\"Input must be a positive integer\")\n",
    "\n",
    "    count = 0\n",
    "    while n > 0:\n",
    "        count += n & 1\n",
    "        n >>= 1\n",
    "\n",
    "    return count\n",
    "\n",
    "\n",
    "class TestCountSetBits(unittest.TestCase):\n",
    "\n",
    "    def test_set_bits(self):\n",
    "        test_cases = [\n",
    "            (1, 1),\n",
    "            (29, 4),   \n",
    "            (1023, 10), \n",
    "        ]\n",
    "        \n",
    "        for number, expected in test_cases:\n",
    "            with self.subTest(number=number):\n",
    "                self.assertEqual(count_set_bits(number), expected)\n",
    "\n",
    "    def test_number_not_positive(self):\n",
    "        with self.assertRaises(ValueError) as context:\n",
    "            count_set_bits(0)\n",
    "        self.assertEqual(str(context.exception), \"Input must be a positive integer\")\n",
    "        \n",
    "        with self.assertRaises(ValueError) as context:\n",
    "            count_set_bits(-256)\n",
    "        self.assertEqual(str(context.exception), \"Input must be a positive integer\")\n",
    "\n",
    "def run_tests():\n",
    "    suite = unittest.TestLoader().loadTestsFromTestCase(TestCountSetBits)\n",
    "    unittest.TextTestRunner().run(suite)\n",
    "\n",
    "if __name__ == \"__main__\":\n",
    "    unittest.main(argv=['first-arg-is-ignored'], exit=False)\n"
   ]
  },
  {
   "cell_type": "markdown",
   "metadata": {
    "id": "26dDUz-Ae17N"
   },
   "source": [
    "# Задача 4\n",
    "Написать функцию, которая принимает положительное число. Функция должна вернуть то,\n",
    "сколько раз необходимо перемножать цифры числа или результат перемножения, чтобы\n",
    "получилось число состоящее из одной цифры.\n",
    "Например, для входного числа:\n",
    "· 39 функция должна вернуть 3, так как 3*9=27 => 2*7=14 => 1*4=4\n",
    "· 4 функция должна вернуть 0, так как число уже состоит из одной цифры\n",
    "· 999 функция должна вернуть 4, так как 9*9*9=729 => 7*2*9=126 => 1*2*6=12 =>\n",
    "1*2=2. Написать тесты для кода"
   ]
  },
  {
   "cell_type": "code",
   "execution_count": 105,
   "metadata": {
    "ExecuteTime": {
     "end_time": "2024-10-09T15:45:47.501684400Z",
     "start_time": "2024-10-09T15:45:47.483685100Z"
    },
    "id": "BH1A_Mgi6i4G"
   },
   "outputs": [
    {
     "name": "stderr",
     "output_type": "stream",
     "text": [
      "....................................\n",
      "----------------------------------------------------------------------\n",
      "Ran 36 tests in 0.017s\n",
      "\n",
      "OK\n"
     ]
    }
   ],
   "source": [
    "import unittest\n",
    "\n",
    "def magic(n: int, count=0):\n",
    "    if not isinstance(n, int):\n",
    "        raise ValueError(\"Input must be an integer\")\n",
    "    \n",
    "    if n < 0:\n",
    "        raise ValueError(\"Input must be a non-negative integer\")\n",
    "\n",
    "    if n < 10:\n",
    "        return 0\n",
    "\n",
    "    while n >= 10:\n",
    "        a = 1\n",
    "        while n > 0:\n",
    "            a *= n % 10\n",
    "            n //= 10\n",
    "\n",
    "        n = a\n",
    "        count += 1\n",
    "\n",
    "    return count\n",
    "\n",
    "\n",
    "class TestMagicFunction(unittest.TestCase):\n",
    "    \n",
    "    def test_magic_with_positive_integers(self):\n",
    "        self.assertEqual(magic(39), 3)  \n",
    "        self.assertEqual(magic(999), 4)  \n",
    "        self.assertEqual(magic(10), 1)   \n",
    "        self.assertEqual(magic(123456), 2)  \n",
    "\n",
    "    def test_magic_with_single_digit(self):\n",
    "        self.assertEqual(magic(5), 0)  \n",
    "\n",
    "    def test_magic_with_zero(self):\n",
    "        self.assertEqual(magic(0), 0)  \n",
    "\n",
    "    def test_magic_with_negative_numbers(self):\n",
    "        with self.assertRaises(ValueError):\n",
    "            magic(-5)  \n",
    "\n",
    "    def test_magic_with_non_integer(self):\n",
    "        with self.assertRaises(ValueError):\n",
    "            magic(3.5)  \n",
    "        with self.assertRaises(ValueError):\n",
    "            magic(\"string\")  \n",
    "\n",
    "if __name__ == \"__main__\":\n",
    "    unittest.main(argv=['first-arg-is-ignored'], exit=False)\n"
   ]
  },
  {
   "cell_type": "markdown",
   "metadata": {
    "id": "0nS-kIa8g8vd"
   },
   "source": [
    "# Задача 5\n",
    "Написать функцию, которая принимает два целочисленных вектора одинаковой длины и\n",
    "возвращает среднеквадратическое отклонение двух векторов. Написать тесты для кода"
   ]
  },
  {
   "cell_type": "code",
   "execution_count": 107,
   "metadata": {
    "ExecuteTime": {
     "end_time": "2024-10-09T15:45:47.513697500Z",
     "start_time": "2024-10-09T15:45:47.500683500Z"
    },
    "id": "8iphx4LM6xbx"
   },
   "outputs": [
    {
     "name": "stderr",
     "output_type": "stream",
     "text": [
      "............................................\n",
      "----------------------------------------------------------------------\n",
      "Ran 44 tests in 0.029s\n",
      "\n",
      "OK\n"
     ]
    }
   ],
   "source": [
    "import unittest\n",
    "import math\n",
    "\n",
    "def mse(pred, true):\n",
    "    if len(pred) != len(true):\n",
    "        raise ValueError(\"Vectors must be of the same length\")\n",
    "    \n",
    "    for p, t in zip(pred, true):\n",
    "        if not isinstance(p, (int, float)) or not isinstance(t, (int, float)):\n",
    "            raise TypeError(\"Both inputs must be numeric\")\n",
    "\n",
    "    n = len(pred)\n",
    "    sum_squared_differences = 0\n",
    "    \n",
    "    for i in range(n):\n",
    "        difference = pred[i] - true[i]\n",
    "        sum_squared_differences += difference ** 2\n",
    "    \n",
    "    mean_squared_difference = sum_squared_differences / n\n",
    "    rmsd = math.sqrt(mean_squared_difference)\n",
    "    \n",
    "    return rmsd\n",
    "\n",
    "\n",
    "class TestMSEFunction(unittest.TestCase):\n",
    "    \n",
    "    def test_equal_vectors(self):\n",
    "        pred = [1, 2, 3]\n",
    "        true = [1, 2, 3]\n",
    "        self.assertAlmostEqual(mse(pred, true), 0.0)\n",
    "\n",
    "    def test_different_vectors(self):\n",
    "        pred = [1, 2, 3]\n",
    "        true = [1, 2, 4]\n",
    "        self.assertAlmostEqual(mse(pred, true), math.sqrt(1/3))\n",
    "\n",
    "    def test_negative_values(self):\n",
    "        pred = [-1, -2, -3]\n",
    "        true = [-1, -2, -4]\n",
    "        self.assertAlmostEqual(mse(pred, true), math.sqrt(1/3))\n",
    "\n",
    "    def test_mixed_signs(self):\n",
    "        pred = [1, -2, 3]\n",
    "        true = [-1, 2, -3]\n",
    "        self.assertAlmostEqual(mse(pred, true), math.sqrt(56 / 3))\n",
    "\n",
    "    def test_raises_value_error_different_lengths(self):\n",
    "        pred = [1, 2, 3]\n",
    "        true = [1, 2]\n",
    "        with self.assertRaises(ValueError):\n",
    "            mse(pred, true)\n",
    "\n",
    "    def test_raises_type_error_non_numeric(self):\n",
    "        pred = [1, 2, '3']\n",
    "        true = [1, 2, 3]\n",
    "        with self.assertRaises(TypeError):\n",
    "            mse(pred, true)\n",
    "\n",
    "    def test_raises_type_error_non_numeric_in_true(self):\n",
    "        pred = [1, 2, 3]\n",
    "        true = [1, 2, None]\n",
    "        with self.assertRaises(TypeError):\n",
    "            mse(pred, true)\n",
    "\n",
    "    def test_empty_vectors(self):\n",
    "        pred = []\n",
    "        true = []\n",
    "        with self.assertRaises(ZeroDivisionError):\n",
    "            mse(pred, true)\n",
    "\n",
    "if __name__ == \"__main__\":\n",
    "    unittest.main(argv=['first-arg-is-ignored'], exit=False)\n"
   ]
  },
  {
   "cell_type": "markdown",
   "metadata": {
    "id": "vpIPKL439zkw"
   },
   "source": [
    "# Задача 6\n",
    "Написать функцию, принимающая целое положительное число. Функция должна вернуть\n",
    "строку вида “(n1**p1)(n2**p2)…(nk**pk)” представляющая разложение числа на простые\n",
    "множители (если pi == 1, то выводить только ni).\n",
    "Например, для числа 86240 функция должна вернуть “(2**5)(5)(7**2)(11)”. Написать тесты для кода"
   ]
  },
  {
   "cell_type": "code",
   "execution_count": 109,
   "metadata": {
    "ExecuteTime": {
     "end_time": "2024-10-09T15:45:47.532832800Z",
     "start_time": "2024-10-09T15:45:47.513697500Z"
    },
    "id": "pFebmcZk94Jw"
   },
   "outputs": [
    {
     "name": "stderr",
     "output_type": "stream",
     "text": [
      ".....................................................\n",
      "----------------------------------------------------------------------\n",
      "Ran 53 tests in 0.032s\n",
      "\n",
      "OK\n"
     ]
    }
   ],
   "source": [
    "import unittest\n",
    "\n",
    "def prime_factorization(n):\n",
    "    if not isinstance(n, int) or n <= 1:\n",
    "        raise ValueError(\"Input must be a positive integer greater than 1\")\n",
    "    \n",
    "    factors = {}\n",
    "    \n",
    "    while n % 2 == 0:\n",
    "        if 2 in factors:\n",
    "            factors[2] += 1\n",
    "        else:\n",
    "            factors[2] = 1\n",
    "        n //= 2\n",
    "\n",
    "    for i in range(3, int(n**0.5) + 1, 2):\n",
    "        while n % i == 0:\n",
    "            if i in factors:\n",
    "                factors[i] += 1\n",
    "            else:\n",
    "                factors[i] = 1\n",
    "            n //= i\n",
    "\n",
    "    if n > 2:\n",
    "        factors[n] = 1\n",
    "\n",
    "    result = []\n",
    "    for key, value in factors.items():\n",
    "        if value == 1:\n",
    "            result.append(f\"({key})\")\n",
    "        else:\n",
    "            result.append(f\"({key}**{value})\")\n",
    "\n",
    "    return ''.join(result)\n",
    "\n",
    "\n",
    "class TestPrimeFactorization(unittest.TestCase):\n",
    "\n",
    "    def test_factorization_with_prime(self):\n",
    "        self.assertEqual(prime_factorization(7), \"(7)\")\n",
    "    \n",
    "    def test_factorization_with_square_prime(self):\n",
    "        self.assertEqual(prime_factorization(9), \"(3**2)\")\n",
    "    \n",
    "    def test_factorization_with_multiple_primes(self):\n",
    "        self.assertEqual(prime_factorization(28), \"(2**2)(7)\")\n",
    "    \n",
    "    def test_factorization_with_large_number(self):\n",
    "        self.assertEqual(prime_factorization(1001), \"(7)(11)(13)\")\n",
    "\n",
    "    def test_factorization_with_two_prime_factors(self):\n",
    "        self.assertEqual(prime_factorization(15), \"(3)(5)\")\n",
    "    \n",
    "    def test_factorization_with_one(self):\n",
    "        with self.assertRaises(ValueError):\n",
    "            prime_factorization(1)\n",
    "\n",
    "    def test_factorization_with_zero(self):\n",
    "        with self.assertRaises(ValueError):\n",
    "            prime_factorization(0)\n",
    "\n",
    "    def test_factorization_with_negative(self):\n",
    "        with self.assertRaises(ValueError):\n",
    "            prime_factorization(-15)\n",
    "\n",
    "    def test_factorization_with_non_integer(self):\n",
    "        with self.assertRaises(ValueError):\n",
    "            prime_factorization(15.5)\n",
    "\n",
    "if __name__ == \"__main__\":\n",
    "    unittest.main(argv=['first-arg-is-ignored'], exit=False)"
   ]
  },
  {
   "cell_type": "markdown",
   "metadata": {
    "id": "ps2s0BudX7A2"
   },
   "source": [
    "# Задача 7\n",
    "Написать функцию, принимающая целое число n, задающее количество кубиков. Функция\n",
    "должна определить, можно ли из данного кол-ва кубиков построить пирамиду, то есть\n",
    "можно ли представить число n как 1^2+2^2+3^2+…+k^2. Если можно, то функция должна\n",
    "вернуть k, иначе строку “It is impossible”. Написать тесты для кода"
   ]
  },
  {
   "cell_type": "code",
   "execution_count": 111,
   "metadata": {
    "ExecuteTime": {
     "end_time": "2024-10-09T15:45:47.545834700Z",
     "start_time": "2024-10-09T15:45:47.530836600Z"
    },
    "id": "3YPjEXxhX_YT"
   },
   "outputs": [
    {
     "name": "stderr",
     "output_type": "stream",
     "text": [
      ".........................................................\n",
      "----------------------------------------------------------------------\n",
      "Ran 57 tests in 0.038s\n",
      "\n",
      "OK\n"
     ]
    }
   ],
   "source": [
    "import unittest\n",
    "\n",
    "def pyramid(number):\n",
    "    if number <= 0:\n",
    "        return \"It is impossible\"\n",
    "    \n",
    "    k = 0\n",
    "    total_cubes = 0\n",
    "    \n",
    "    while total_cubes < number:\n",
    "        k += 1\n",
    "        total_cubes += k ** 2\n",
    "    \n",
    "    if total_cubes == number:\n",
    "        return k\n",
    "    else:\n",
    "        return \"It is impossible\"\n",
    "\n",
    "class TestPyramid(unittest.TestCase):\n",
    "    \n",
    "    def test_perfect_square(self):\n",
    "        self.assertEqual(pyramid(1), 1)\n",
    "        self.assertEqual(pyramid(5), 2)\n",
    "        self.assertEqual(pyramid(14), 3) \n",
    "        self.assertEqual(pyramid(30), 4)\n",
    "\n",
    "    def test_non_perfect_square(self):\n",
    "        self.assertEqual(pyramid(2), \"It is impossible\")\n",
    "        self.assertEqual(pyramid(3), \"It is impossible\")\n",
    "        self.assertEqual(pyramid(6), \"It is impossible\")\n",
    "        self.assertEqual(pyramid(7), \"It is impossible\")\n",
    "        self.assertEqual(pyramid(15), \"It is impossible\")\n",
    "        \n",
    "    def test_large_number(self):\n",
    "        self.assertEqual(pyramid(385), 10)\n",
    "    \n",
    "    def test_zero_and_negative(self):\n",
    "        self.assertEqual(pyramid(0), \"It is impossible\")\n",
    "        self.assertEqual(pyramid(-5), \"It is impossible\") \n",
    "\n",
    "if __name__ == \"__main__\":\n",
    "    unittest.main(argv=['first-arg-is-ignored'], exit=False)\n"
   ]
  },
  {
   "cell_type": "markdown",
   "metadata": {
    "id": "KeKgmIdAQMEJ"
   },
   "source": [
    "# Задача 8\n",
    "Функция принимает на вход положительное число и определяет является ли оно сбалансированным, т.е. сумма цифр до средних равна сумме цифр после. Средними в случае нечетного числа цифр считать одну цифру, в случае четного - две средних. Написать тесты для кода"
   ]
  },
  {
   "cell_type": "code",
   "execution_count": 5,
   "metadata": {
    "ExecuteTime": {
     "end_time": "2024-10-09T15:45:47.563956800Z",
     "start_time": "2024-10-09T15:45:47.547839Z"
    },
    "id": "gMAAqtqlQrZt"
   },
   "outputs": [
    {
     "name": "stderr",
     "output_type": "stream",
     "text": [
      ".....\n",
      "----------------------------------------------------------------------\n",
      "Ran 5 tests in 0.005s\n",
      "\n",
      "OK\n"
     ]
    }
   ],
   "source": [
    "import unittest\n",
    "\n",
    "def is_balanced(number):\n",
    "    if number < 0:\n",
    "        raise ValueError(\"Number must be positive.\")\n",
    "    \n",
    "    number_str = str(number)\n",
    "    length = len(number_str)\n",
    "    \n",
    "    if length % 2 == 0:  \n",
    "        mid1 = length // 2 - 1\n",
    "        mid2 = length // 2\n",
    "        left_sum = sum(int(digit) for digit in number_str[:mid1 + 1])\n",
    "        right_sum = sum(int(digit) for digit in number_str[mid2:])\n",
    "    else:  \n",
    "        mid = length // 2\n",
    "        left_sum = sum(int(digit) for digit in number_str[:mid])\n",
    "        right_sum = sum(int(digit) for digit in number_str[mid + 1:])\n",
    "    \n",
    "    return left_sum == right_sum\n",
    "\n",
    "\n",
    "class TestIsBalanced(unittest.TestCase):\n",
    "\n",
    "    def test_balanced_even_length(self):\n",
    "        self.assertTrue(is_balanced(123321))  \n",
    "        self.assertTrue(is_balanced(123321))  \n",
    "        self.assertTrue(is_balanced(1221))   \n",
    "        self.assertFalse(is_balanced(1234))  \n",
    "        self.assertFalse(is_balanced(1122)) \n",
    "\n",
    "    def test_balanced_odd_length(self):\n",
    "        self.assertTrue(is_balanced(12321))   \n",
    "        self.assertTrue(is_balanced(11211))   \n",
    "        self.assertFalse(is_balanced(12345))   \n",
    "        self.assertFalse(is_balanced(11110))   \n",
    "\n",
    "    def test_single_digit(self):\n",
    "        self.assertTrue(is_balanced(0))      \n",
    "        self.assertTrue(is_balanced(5))     \n",
    "\n",
    "    def test_large_numbers(self):\n",
    "        self.assertTrue(is_balanced(123123))  \n",
    "        self.assertFalse(is_balanced(123456)) \n",
    "\n",
    "    def test_negative_number(self):\n",
    "        with self.assertRaises(ValueError):\n",
    "            is_balanced(-123456) \n",
    "\n",
    "if __name__ == \"__main__\":\n",
    "    unittest.main(argv=['first-arg-is-ignored'], exit=False)"
   ]
  }
 ],
 "metadata": {
  "colab": {
   "provenance": []
  },
  "kernelspec": {
   "display_name": "Python 3",
   "language": "python",
   "name": "python3"
  },
  "language_info": {
   "codemirror_mode": {
    "name": "ipython",
    "version": 3
   },
   "file_extension": ".py",
   "mimetype": "text/x-python",
   "name": "python",
   "nbconvert_exporter": "python",
   "pygments_lexer": "ipython3",
   "version": "undefined.undefined.undefined"
  }
 },
 "nbformat": 4,
 "nbformat_minor": 0
}
